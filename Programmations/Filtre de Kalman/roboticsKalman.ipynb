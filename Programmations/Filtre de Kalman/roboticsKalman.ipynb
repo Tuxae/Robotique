{
 "cells": [
  {
   "cell_type": "code",
   "execution_count": 26,
   "metadata": {},
   "outputs": [],
   "source": [
    "##Essentiellement basé sur l'implémentation ici https://automaticaddison.com/extended-kalman-filter-ekf-with-python-code-example/\n",
    "import math\n",
    "import numpy as np\n",
    "import matplotlib.pyplot as plt\n",
    "import BaseDiff\n"
   ]
  },
  {
   "cell_type": "code",
   "execution_count": 63,
   "metadata": {},
   "outputs": [],
   "source": [
    "#Paramètres \n",
    "dt = 0.1 #pas de temps\n",
    "F = np.eye(3) #Matrice F dans le modèle Xt+1 = F*Xt + B*u\n",
    "H = np.eye(3) #Matrice de mesure utilisée pour convertir les états estimés en états mesurés par les sensors au temps k \n",
    "R = np.eye(3) #Matrice bruit erreur de mesure à adapter en fonction de la confiance dans la mesure\n",
    "Q = np.eye(3) #Matrice de bruit. Plus les entrées sont grandes, plus la variance des changements de mesures des sensors est gérée"
   ]
  },
  {
   "cell_type": "code",
   "execution_count": 80,
   "metadata": {},
   "outputs": [],
   "source": [
    "#Modèle de déplacement utilisé pour prédire le prochain état \n",
    "#Paramètres position au temps t X = [x,y,theta] u = [v, omega]\n",
    "#xt+1 = xt + v cos(theta)\n",
    "#yt+1 = yt + v sin(theta) \n",
    "#theta_t+1 = theta_t + omega\n",
    "#A adapter peut-être à notre problème\n",
    "def motionModel(X,u) :\n",
    "    B = np.array([[dt*math.cos(X[2]),0],[dt*math.sin(X[2]),0],[0,dt]])\n",
    "    return (F@X) + (B@u)"
   ]
  },
  {
   "cell_type": "code",
   "execution_count": 74,
   "metadata": {},
   "outputs": [],
   "source": [
    "#Prédiction du prochain état avant l' EKF\n",
    "def prochainEtat(X,u) :\n",
    "    bruit = np.array([0.01,0.01,0.003])\n",
    "\n",
    "    return motionModel(X,u) + bruit"
   ]
  },
  {
   "cell_type": "code",
   "execution_count": 75,
   "metadata": {},
   "outputs": [
    {
     "data": {
      "text/plain": [
       "array([9.12408573, 0.57232532, 0.573     ])"
      ]
     },
     "execution_count": 75,
     "metadata": {},
     "output_type": "execute_result"
    }
   ],
   "source": [
    "prochainEtat([9,0.5,0.5],[1.3,0.7])"
   ]
  },
  {
   "cell_type": "code",
   "execution_count": 76,
   "metadata": {},
   "outputs": [],
   "source": [
    "#Extended Kalman Filter\n",
    "\n",
    "def ekf(posTriang,posprec,uk,covetatPrec) :\n",
    "    #Estimation de l'état avant EKF : \n",
    "    posEstim = prochainEtat(posTriang,uk)\n",
    "    #Calcul de la covariance de l'état \n",
    "    Pk = F @ covetatPrec @ F.T + Q\n",
    "    #residu entre position donnée par la triangulation et la position estimée posEstim\n",
    "    residu = posEstim - posTriang\n",
    "    \n",
    "    S = H @ Pk @ H.T + R\n",
    "    \n",
    "    #Initialisation de K\n",
    "    K = Pk @ H.T @ np.linalg.pinv(S)\n",
    "    \n",
    "    # Update the state covariance estimate for time k\n",
    "    Pk = Pk - (K @ H @ Pk)\n",
    "    #Mise à jour de la position \n",
    "\n",
    "    posUpdate = posEstim + K@residu\n",
    "\n",
    "    # Return the updated state and covariance estimates\n",
    "    return posUpdate, Pk\n",
    "    "
   ]
  },
  {
   "cell_type": "code",
   "execution_count": 68,
   "metadata": {},
   "outputs": [
    {
     "data": {
      "text/plain": [
       "(array([[ 9.0031084 , -0.81062327, -1.09287323],\n",
       "        [10.14498923,  0.33125756,  0.0490076 ],\n",
       "        [10.84279923,  1.02906756,  0.7468176 ]]),\n",
       " array([[0.66666667, 0.        , 0.        ],\n",
       "        [0.        , 0.66666667, 0.        ],\n",
       "        [0.        , 0.        , 0.66666667]]))"
      ]
     },
     "execution_count": 68,
     "metadata": {},
     "output_type": "execute_result"
    }
   ],
   "source": [
    "ekf([9.353,0.284,0.007],[4.721,0.143,0.006],[4.5,0],np.eye(3))"
   ]
  },
  {
   "cell_type": "code",
   "execution_count": 84,
   "metadata": {},
   "outputs": [],
   "source": [
    "#Liste de 100 positions aléatoires\n",
    "listePosObs = []\n",
    "for i in range(100):\n",
    "    listePosObs.append(np.random.uniform(0, 200, (3,1)))"
   ]
  },
  {
   "cell_type": "code",
   "execution_count": 94,
   "metadata": {},
   "outputs": [],
   "source": [
    "#Test de ekf\n",
    "#Position initiale \n",
    "posOptim = np.zeros(3)\n",
    "#Matrice de covariance initiale\n",
    "cov = np.eye(3)\n",
    "distPosOptEstim = np.zeros(100)\n",
    "compteur = 0\n",
    "listePosOptim = []\n",
    "for pos in listePosObs :\n",
    "    posOptim, cov = ekf(pos,posOptim,[4.5,0],cov)\n",
    "    distPosOptEstim[compteur] = np.linalg.norm(posOptim - pos)\n",
    "\n",
    "    listePosOptim.append(posOptim)\n",
    "    compteur = compteur + 1\n"
   ]
  },
  {
   "cell_type": "code",
   "execution_count": 95,
   "metadata": {},
   "outputs": [
    {
     "data": {
      "text/plain": [
       "array([1.25870512, 1.30416626, 1.25352258, 1.22422999, 1.29989271,\n",
       "       1.29376308, 1.25545628, 1.29748771, 1.28540622, 1.23456889,\n",
       "       1.3007871 , 1.28751555, 1.27425322, 1.22206957, 1.29890416,\n",
       "       1.22579552, 1.29899414, 1.26674534, 1.26948804, 1.27245469,\n",
       "       1.29434948, 1.27106243, 1.27758472, 1.30045167, 1.29139485,\n",
       "       1.29894894, 1.23509941, 1.28794705, 1.23285888, 1.22897404,\n",
       "       1.29991562, 1.22504114, 1.22183073, 1.23200217, 1.29847569,\n",
       "       1.27571254, 1.25499666, 1.25004295, 1.22329985, 1.26277144,\n",
       "       1.24418711, 1.23373305, 1.22970444, 1.22922681, 1.29462551,\n",
       "       1.29171335, 1.25687992, 1.25720071, 1.29471548, 1.22406565,\n",
       "       1.27271127, 1.25800521, 1.24957627, 1.29306732, 1.2971025 ,\n",
       "       1.22213255, 1.25377038, 1.24120166, 1.28309748, 1.27614973,\n",
       "       1.30071898, 1.22768072, 1.22258556, 1.22279962, 1.24920479,\n",
       "       1.28501541, 1.23375558, 1.2217847 , 1.29327974, 1.23283642,\n",
       "       1.23667255, 1.28113912, 1.22985346, 1.30022681, 1.30028567,\n",
       "       1.28501522, 1.27176614, 1.28319547, 1.29818082, 1.29891549,\n",
       "       1.22552963, 1.25786233, 1.28591665, 1.28491329, 1.2868948 ,\n",
       "       1.27696926, 1.25149704, 1.24659855, 1.30001086, 1.26709289,\n",
       "       1.29752118, 1.23871933, 1.29741366, 1.2878489 , 1.22153304,\n",
       "       1.23345033, 1.2471894 , 1.23270808, 1.27976051, 1.27411953])"
      ]
     },
     "execution_count": 95,
     "metadata": {},
     "output_type": "execute_result"
    }
   ],
   "source": [
    "iterations = np.arange(0,100)"
   ]
  },
  {
   "cell_type": "code",
   "execution_count": 104,
   "metadata": {},
   "outputs": [
    {
     "data": {
      "text/plain": [
       "Text(0, 0.5, '||position triangulée-EKF||')"
      ]
     },
     "execution_count": 104,
     "metadata": {},
     "output_type": "execute_result"
    },
    {
     "data": {
      "image/png": "[encoded data removed]",
      "text/plain": [
       "<Figure size 1700x500 with 1 Axes>"
      ]
     },
     "metadata": {},
     "output_type": "display_data"
    }
   ],
   "source": [
    "#Ecarts position triangulée et EKF\n",
    "plt.figure(figsize=(17,5))\n",
    "plt.subplot(2, 1, 1)\n",
    "plt.scatter(iterations,distPosOptEstim , marker='o', s=10, label=\"True label\")\n",
    "plt.xlabel('Numéro estimation')\n",
    "plt.ylabel(\"||position triangulée-EKF||\")\n"
   ]
  }
 ],
 "metadata": {
  "kernelspec": {
   "display_name": "base",
   "language": "python",
   "name": "python3"
  },
  "language_info": {
   "codemirror_mode": {
    "name": "ipython",
    "version": 3
   },
   "file_extension": ".py",
   "mimetype": "text/x-python",
   "name": "python",
   "nbconvert_exporter": "python",
   "pygments_lexer": "ipython3",
   "version": "3.11.5"
  }
 },
 "nbformat": 4,
 "nbformat_minor": 2
}
