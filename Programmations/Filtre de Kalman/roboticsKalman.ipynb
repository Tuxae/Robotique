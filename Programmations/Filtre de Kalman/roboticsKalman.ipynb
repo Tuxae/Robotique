{
 "cells": [
  {
   "cell_type": "code",
   "execution_count": 26,
   "metadata": {},
   "outputs": [],
   "source": [
"#Essentiellement basé sur l'implémentation ici https://automaticaddison.com/extended-kalman-filter-ekf-with-python-code-example/\n"
    "import math\n",
    "import numpy as np\n",
    "import matplotlib.pyplot as plt\n",
    "import BaseDiff\n"
   ]
  },
  {
   "cell_type": "code",
   "execution_count": 63,
   "metadata": {},
   "outputs": [],
   "source": [
    "#Paramètres \n",
    "dt = 0.1 #pas de temps\n",
    "F = np.eye(3) #Matrice F dans le modèle Xt+1 = F*Xt + B*u\n",
    "H = np.eye(3) #Matrice de mesure utilisée pour convertir les états estimés en états mesurés par les sensors au temps k \n",
    "R = np.eye(3) #Matrice bruit erreur de mesure à adapter en fonction de la confiance dans la mesure\n",
    "Q = np.eye(3) #Matrice de bruit. Plus les entrées sont grandes, plus la variance des changements de mesures des sensors est gérée"
   ]
  },
  {
   "cell_type": "code",
   "execution_count": 80,
   "metadata": {},
   "outputs": [],
   "source": [
    "#Modèle de déplacement utilisé pour prédire le prochain état \n",
    "#Paramètres position au temps t X = [x,y,theta] u = [v, omega]\n",
    "#xt+1 = xt + v cos(theta)\n",
    "#yt+1 = yt + v sin(theta) \n",
    "#theta_t+1 = theta_t + omega\n",
    "#A adapter peut-être à notre problème\n",
    "def motionModel(X,u) :\n",
    "    B = np.array([[dt*math.cos(X[2]),0],[dt*math.sin(X[2]),0],[0,dt]])\n",
    "    return (F@X) + (B@u)"
   ]
  },
  {
   "cell_type": "code",
   "execution_count": 74,
   "metadata": {},
   "outputs": [],
   "source": [
    "#Prédiction du prochain état avant l' EKF\n",
    "def prochainEtat(X,u) :\n",
    "    bruit = np.array([0.01,0.01,0.003])\n",
    "\n",
    "    return motionModel(X,u) + bruit"
   ]
  },
  {
   "cell_type": "code",
   "execution_count": 75,
   "metadata": {},
   "outputs": [
    {
     "data": {
      "text/plain": [
       "array([9.12408573, 0.57232532, 0.573     ])"
      ]
     },
     "execution_count": 75,
     "metadata": {},
     "output_type": "execute_result"
    }
   ],
   "source": [
    "prochainEtat([9,0.5,0.5],[1.3,0.7])"
   ]
  },
  {
   "cell_type": "code",
   "execution_count": 76,
   "metadata": {},
   "outputs": [],
   "source": [
    "#Extended Kalman Filter\n",
    "\n",
    "def ekf(posTriang,posprec,uk,covetatPrec) :\n",
    "    #Estimation de l'état avant EKF : \n",
    "    posEstim = prochainEtat(posTriang,uk)\n",
    "    #Calcul de la covariance de l'état \n",
    "    Pk = F @ covetatPrec @ F.T + Q\n",
    "    #residu entre position donnée par la triangulation et la position estimée posEstim\n",
    "    residu = posEstim - posTriang\n",
    "    \n",
    "    S = H @ Pk @ H.T + R\n",
    "    \n",
    "    #Initialisation de K\n",
    "    K = Pk @ H.T @ np.linalg.pinv(S)\n",
    "    \n",
    "    # Update the state covariance estimate for time k\n",
    "    Pk = Pk - (K @ H @ Pk)\n",
    "    #Mise à jour de la position \n",
    "\n",
    "    posUpdate = posEstim + K@residu\n",
    "\n",
    "    # Return the updated state and covariance estimates\n",
    "    return posUpdate, Pk\n",
    "    "
   ]
  },
  {
   "cell_type": "code",
   "execution_count": 68,
   "metadata": {},
   "outputs": [
    {
     "data": {
      "text/plain": [
       "(array([[ 9.0031084 , -0.81062327, -1.09287323],\n",
       "        [10.14498923,  0.33125756,  0.0490076 ],\n",
       "        [10.84279923,  1.02906756,  0.7468176 ]]),\n",
       " array([[0.66666667, 0.        , 0.        ],\n",
       "        [0.        , 0.66666667, 0.        ],\n",
       "        [0.        , 0.        , 0.66666667]]))"
      ]
     },
     "execution_count": 68,
     "metadata": {},
     "output_type": "execute_result"
    }
   ],
   "source": [
    "ekf([9.353,0.284,0.007],[4.721,0.143,0.006],[4.5,0],np.eye(3))"
   ]
  },
  {
   "cell_type": "code",
   "execution_count": 84,
   "metadata": {},
   "outputs": [],
   "source": [
    "#Liste de 100 positions aléatoires\n",
    "listePosObs = []\n",
    "for i in range(100):\n",
    "    listePosObs.append(np.random.uniform(0, 200, (3,1)))"
   ]
  },
  {
   "cell_type": "code",
   "execution_count": 94,
   "metadata": {},
   "outputs": [],
   "source": [
    "#Test de ekf\n",
    "#Position initiale \n",
    "posOptim = np.zeros(3)\n",
    "#Matrice de covariance initiale\n",
    "cov = np.eye(3)\n",
    "distPosOptEstim = np.zeros(100)\n",
    "compteur = 0\n",
    "listePosOptim = []\n",
    "for pos in listePosObs :\n",
    "    posOptim, cov = ekf(pos,posOptim,[4.5,0],cov)\n",
    "    distPosOptEstim[compteur] = np.linalg.norm(posOptim - pos)\n",
    "\n",
    "    listePosOptim.append(posOptim)\n",
    "    compteur = compteur + 1\n"
   ]
  },
  {
   "cell_type": "code",
   "execution_count": 95,
   "metadata": {},
   "outputs": [
    {
     "data": {
      "text/plain": [
       "array([1.25870512, 1.30416626, 1.25352258, 1.22422999, 1.29989271,\n",
       "       1.29376308, 1.25545628, 1.29748771, 1.28540622, 1.23456889,\n",
       "       1.3007871 , 1.28751555, 1.27425322, 1.22206957, 1.29890416,\n",
       "       1.22579552, 1.29899414, 1.26674534, 1.26948804, 1.27245469,\n",
       "       1.29434948, 1.27106243, 1.27758472, 1.30045167, 1.29139485,\n",
       "       1.29894894, 1.23509941, 1.28794705, 1.23285888, 1.22897404,\n",
       "       1.29991562, 1.22504114, 1.22183073, 1.23200217, 1.29847569,\n",
       "       1.27571254, 1.25499666, 1.25004295, 1.22329985, 1.26277144,\n",
       "       1.24418711, 1.23373305, 1.22970444, 1.22922681, 1.29462551,\n",
       "       1.29171335, 1.25687992, 1.25720071, 1.29471548, 1.22406565,\n",
       "       1.27271127, 1.25800521, 1.24957627, 1.29306732, 1.2971025 ,\n",
       "       1.22213255, 1.25377038, 1.24120166, 1.28309748, 1.27614973,\n",
       "       1.30071898, 1.22768072, 1.22258556, 1.22279962, 1.24920479,\n",
       "       1.28501541, 1.23375558, 1.2217847 , 1.29327974, 1.23283642,\n",
       "       1.23667255, 1.28113912, 1.22985346, 1.30022681, 1.30028567,\n",
       "       1.28501522, 1.27176614, 1.28319547, 1.29818082, 1.29891549,\n",
       "       1.22552963, 1.25786233, 1.28591665, 1.28491329, 1.2868948 ,\n",
       "       1.27696926, 1.25149704, 1.24659855, 1.30001086, 1.26709289,\n",
       "       1.29752118, 1.23871933, 1.29741366, 1.2878489 , 1.22153304,\n",
       "       1.23345033, 1.2471894 , 1.23270808, 1.27976051, 1.27411953])"
      ]
     },
     "execution_count": 95,
     "metadata": {},
     "output_type": "execute_result"
    }
   ],
   "source": [
    "iterations = np.arange(0,100)"
   ]
  },
  {
   "cell_type": "code",
   "execution_count": 102,
   "metadata": {},
   "outputs": [
    {
     "data": {
      "text/plain": [
       "Text(0, 0.5, '')"
      ]
     },
     "execution_count": 102,
     "metadata": {},
     "output_type": "execute_result"
    },
    {
     "data": {
      "image/png": "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",
      "text/plain": [
       "<Figure size 1700x500 with 1 Axes>"
      ]
     },
     "metadata": {},
     "output_type": "display_data"
    }
   ],
   "source": [
    "#Ecarts position triangulée et EKF\n",
    "plt.figure(figsize=(17,5))\n",
    "plt.subplot(2, 1, 1)\n",
    "plt.scatter(iterations,distPosOptEstim , marker='o', s=10, label=\"True label\")\n",
    "plt.xlabel('Numéro estimation')\n",
    "plt.ylabel(\"Ecart position triangulée et EKF\")\n"
   ]
  }
 ],
 "metadata": {
  "kernelspec": {
   "display_name": "base",
   "language": "python",
   "name": "python3"
  },
  "language_info": {
   "codemirror_mode": {
    "name": "ipython",
    "version": 3
   },
   "file_extension": ".py",
   "mimetype": "text/x-python",
   "name": "python",
   "nbconvert_exporter": "python",
   "pygments_lexer": "ipython3",
   "version": "3.11.5"
  }
 },
 "nbformat": 4,
 "nbformat_minor": 2
}
